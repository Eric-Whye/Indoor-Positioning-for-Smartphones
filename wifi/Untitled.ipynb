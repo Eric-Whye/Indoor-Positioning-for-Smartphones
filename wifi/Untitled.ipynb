{
 "cells": [
  {
   "cell_type": "code",
   "execution_count": 65,
   "id": "0c7d6042",
   "metadata": {},
   "outputs": [],
   "source": [
    "import pandas as pd\n",
    "import GridPoint as gd\n",
    "import xml.etree.ElementTree as ET\n",
    "import configparser\n"
   ]
  },
  {
   "cell_type": "code",
   "execution_count": 73,
   "id": "a4d4f29f",
   "metadata": {},
   "outputs": [],
   "source": [
    "df = pd.read_csv(\"raw data files/Grid-Data.csv\", header=None)"
   ]
  },
  {
   "cell_type": "code",
   "execution_count": 74,
   "id": "220821b3",
   "metadata": {},
   "outputs": [
    {
     "data": {
      "text/html": [
       "<div>\n",
       "<style scoped>\n",
       "    .dataframe tbody tr th:only-of-type {\n",
       "        vertical-align: middle;\n",
       "    }\n",
       "\n",
       "    .dataframe tbody tr th {\n",
       "        vertical-align: top;\n",
       "    }\n",
       "\n",
       "    .dataframe thead th {\n",
       "        text-align: right;\n",
       "    }\n",
       "</style>\n",
       "<table border=\"1\" class=\"dataframe\">\n",
       "  <thead>\n",
       "    <tr style=\"text-align: right;\">\n",
       "      <th></th>\n",
       "      <th>0</th>\n",
       "      <th>1</th>\n",
       "    </tr>\n",
       "  </thead>\n",
       "  <tbody>\n",
       "    <tr>\n",
       "      <th>0</th>\n",
       "      <td>0.0 0.0</td>\n",
       "      <td>eduroam a0:b4:39:54:8c:6e -90 UCDWireless a0:b...</td>\n",
       "    </tr>\n",
       "    <tr>\n",
       "      <th>1</th>\n",
       "      <td>1.0 0.0</td>\n",
       "      <td>eduroam a0:b4:39:54:8c:6e -92 UCDWireless a0:b...</td>\n",
       "    </tr>\n",
       "    <tr>\n",
       "      <th>2</th>\n",
       "      <td>2.0 0.0</td>\n",
       "      <td>eduroam a0:b4:39:54:8c:6e -91 UCDWireless a0:b...</td>\n",
       "    </tr>\n",
       "    <tr>\n",
       "      <th>3</th>\n",
       "      <td>3.0 0.0</td>\n",
       "      <td>eduroam a0:b4:39:54:8c:6e -92 UCDWireless a0:b...</td>\n",
       "    </tr>\n",
       "    <tr>\n",
       "      <th>4</th>\n",
       "      <td>4.0 0.0</td>\n",
       "      <td>eduroam a0:b4:39:54:8c:6e -92 UCDWireless a0:b...</td>\n",
       "    </tr>\n",
       "  </tbody>\n",
       "</table>\n",
       "</div>"
      ],
      "text/plain": [
       "         0                                                  1\n",
       "0  0.0 0.0  eduroam a0:b4:39:54:8c:6e -90 UCDWireless a0:b...\n",
       "1  1.0 0.0  eduroam a0:b4:39:54:8c:6e -92 UCDWireless a0:b...\n",
       "2  2.0 0.0  eduroam a0:b4:39:54:8c:6e -91 UCDWireless a0:b...\n",
       "3  3.0 0.0  eduroam a0:b4:39:54:8c:6e -92 UCDWireless a0:b...\n",
       "4  4.0 0.0  eduroam a0:b4:39:54:8c:6e -92 UCDWireless a0:b..."
      ]
     },
     "execution_count": 74,
     "metadata": {},
     "output_type": "execute_result"
    }
   ],
   "source": [
    "df.head()"
   ]
  },
  {
   "cell_type": "code",
   "execution_count": 77,
   "id": "6f0fc68f",
   "metadata": {},
   "outputs": [],
   "source": [
    "class GridPoint:\n",
    "    def __init__(self, x, y, data):\n",
    "        self.x = x\n",
    "        self.y = y\n",
    "        self.data = data\n",
    "        \n",
    "    def __str__(self):\n",
    "        return f\"{self.x}, {self.y}\"\n",
    "\n",
    "gridPoints = []\n",
    "\n",
    "for i in range(40):\n",
    "    x = df[0][i].split()[0]\n",
    "    y = df[0][i].split()[1]\n",
    "    data = df[1][i].split()\n",
    "    mlist = []\n",
    "    for j in range(len(data)):\n",
    "        if j % 3 == 0:\n",
    "            thisdict = dict(address = data[j+1], rssi = data[j+2], ssid = data[j])\n",
    "            mlist.append(thisdict)\n",
    "    \n",
    "    gridPoints.append(GridPoint(x, y, mlist))\n",
    "    #list.append(GridPoint(x, y, mlist))"
   ]
  },
  {
   "cell_type": "code",
   "execution_count": 78,
   "id": "22b8bc70",
   "metadata": {},
   "outputs": [
    {
     "data": {
      "text/plain": [
       "[{'address': 'a0:b4:39:54:8c:6e', 'rssi': '-90', 'ssid': 'eduroam'},\n",
       " {'address': 'a0:b4:39:54:8c:6d', 'rssi': '-90', 'ssid': 'UCDWireless'},\n",
       " {'address': 'a0:b4:39:44:e8:81', 'rssi': '-79', 'ssid': 'eduroam'},\n",
       " {'address': 'a0:b4:39:37:2d:0e', 'rssi': '-81', 'ssid': 'eduroam'},\n",
       " {'address': 'a0:b4:39:37:2d:0d', 'rssi': '-81', 'ssid': 'UCDWireless'},\n",
       " {'address': 'a0:b4:39:28:87:8e', 'rssi': '-80', 'ssid': 'eduroam'},\n",
       " {'address': 'a0:b4:39:28:87:8d', 'rssi': '-80', 'ssid': 'UCDWireless'},\n",
       " {'address': 'a0:b4:39:33:3e:2e', 'rssi': '-90', 'ssid': 'eduroam'},\n",
       " {'address': 'a0:b4:39:37:2f:81', 'rssi': '-79', 'ssid': 'eduroam'},\n",
       " {'address': '78:f1:c6:3e:41:8e', 'rssi': '-91', 'ssid': 'eduroam'},\n",
       " {'address': '78:f1:c6:3e:41:8d', 'rssi': '-91', 'ssid': 'UCDWireless'},\n",
       " {'address': 'a0:b4:39:28:1f:6d', 'rssi': '-86', 'ssid': 'UCDWireless'},\n",
       " {'address': 'a0:b4:39:28:1f:6e', 'rssi': '-86', 'ssid': 'eduroam'},\n",
       " {'address': '3c:51:0e:ac:e9:0e', 'rssi': '-87', 'ssid': 'eduroam'},\n",
       " {'address': '6c:8d:77:f9:99:2d', 'rssi': '-68', 'ssid': 'UCDWireless'},\n",
       " {'address': '6c:8d:77:f9:99:2e', 'rssi': '-67', 'ssid': 'eduroam'},\n",
       " {'address': 'a0:b4:39:44:fb:4d', 'rssi': '-72', 'ssid': 'UCDWireless'},\n",
       " {'address': 'a0:b4:39:44:fb:4e', 'rssi': '-72', 'ssid': 'eduroam'},\n",
       " {'address': 'a0:b4:39:16:07:82', 'rssi': '-83', 'ssid': 'UCDWireless'},\n",
       " {'address': 'a0:b4:39:37:31:e1', 'rssi': '-84', 'ssid': 'eduroam'},\n",
       " {'address': 'a0:b4:39:54:8b:4e', 'rssi': '-91', 'ssid': 'eduroam'},\n",
       " {'address': '68:3b:78:49:f7:ae', 'rssi': '-82', 'ssid': 'eduroam'},\n",
       " {'address': '68:3b:78:49:f7:ad', 'rssi': '-82', 'ssid': 'UCDWireless'},\n",
       " {'address': 'a0:b4:39:37:31:ee', 'rssi': '-75', 'ssid': 'eduroam'},\n",
       " {'address': 'a0:b4:39:37:31:ed', 'rssi': '-75', 'ssid': 'UCDWireless'},\n",
       " {'address': 'a0:b4:39:33:32:c1', 'rssi': '-81', 'ssid': 'eduroam'},\n",
       " {'address': 'a0:b4:39:33:32:c2', 'rssi': '-83', 'ssid': 'UCDWireless'},\n",
       " {'address': '78:f1:c6:3e:42:0e', 'rssi': '-85', 'ssid': 'eduroam'},\n",
       " {'address': '78:f1:c6:3e:42:0d', 'rssi': '-86', 'ssid': 'UCDWireless'},\n",
       " {'address': '68:3b:78:9a:ef:6e', 'rssi': '-84', 'ssid': 'eduroam'},\n",
       " {'address': '68:3b:78:9a:ef:6d', 'rssi': '-84', 'ssid': 'UCDWireless'},\n",
       " {'address': 'a0:b4:39:44:f6:4e', 'rssi': '-87', 'ssid': 'eduroam'},\n",
       " {'address': 'a0:b4:39:44:f6:4d', 'rssi': '-88', 'ssid': 'UCDWireless'},\n",
       " {'address': 'a0:b4:39:37:19:cd', 'rssi': '-90', 'ssid': 'UCDWireless'},\n",
       " {'address': 'a0:b4:39:37:19:ce', 'rssi': '-89', 'ssid': 'eduroam'},\n",
       " {'address': 'a0:b4:39:33:2a:2d', 'rssi': '-89', 'ssid': 'UCDWireless'},\n",
       " {'address': 'a0:b4:39:33:2a:2e', 'rssi': '-89', 'ssid': 'eduroam'},\n",
       " {'address': 'a0:b4:39:33:32:cd', 'rssi': '-69', 'ssid': 'UCDWireless'},\n",
       " {'address': 'a0:b4:39:33:32:ce', 'rssi': '-70', 'ssid': 'eduroam'}]"
      ]
     },
     "execution_count": 78,
     "metadata": {},
     "output_type": "execute_result"
    }
   ],
   "source": [
    "gridPoints[0].data"
   ]
  },
  {
   "cell_type": "code",
   "execution_count": null,
   "id": "c299fda0",
   "metadata": {},
   "outputs": [],
   "source": []
  },
  {
   "cell_type": "code",
   "execution_count": null,
   "id": "07112366",
   "metadata": {},
   "outputs": [],
   "source": [
    "df1 = grid_points[0].df\n",
    "df2 = grid_points[1].df\n",
    "\n",
    "\n",
    "test1 = df1.set_index(\"mac_ad\").to_dict()[\"rssi\"]\n",
    "test2 = df2.set_index(\"mac_ad\").to_dict()[\"rssi\"]\n",
    "print(test1)\n",
    "print(test2)"
   ]
  },
  {
   "cell_type": "code",
   "execution_count": 34,
   "id": "47bddf7c",
   "metadata": {},
   "outputs": [
    {
     "ename": "NameError",
     "evalue": "name 'df1' is not defined",
     "output_type": "error",
     "traceback": [
      "\u001b[1;31m---------------------------------------------------------------------------\u001b[0m",
      "\u001b[1;31mNameError\u001b[0m                                 Traceback (most recent call last)",
      "Input \u001b[1;32mIn [34]\u001b[0m, in \u001b[0;36m<cell line: 1>\u001b[1;34m()\u001b[0m\n\u001b[1;32m----> 1\u001b[0m dict_1 \u001b[38;5;241m=\u001b[39m \u001b[43mdf1\u001b[49m\u001b[38;5;241m.\u001b[39mset_index(\u001b[38;5;124m\"\u001b[39m\u001b[38;5;124mmac_ad\u001b[39m\u001b[38;5;124m\"\u001b[39m)\u001b[38;5;241m.\u001b[39mto_dict()[\u001b[38;5;124m\"\u001b[39m\u001b[38;5;124mrssi\u001b[39m\u001b[38;5;124m\"\u001b[39m]\n\u001b[0;32m      2\u001b[0m dict_2 \u001b[38;5;241m=\u001b[39m df2\u001b[38;5;241m.\u001b[39mset_index(\u001b[38;5;124m\"\u001b[39m\u001b[38;5;124mmac_ad\u001b[39m\u001b[38;5;124m\"\u001b[39m)\u001b[38;5;241m.\u001b[39mto_dict()[\u001b[38;5;124m\"\u001b[39m\u001b[38;5;124mrssi\u001b[39m\u001b[38;5;124m\"\u001b[39m]\n\u001b[0;32m      3\u001b[0m dict_3 \u001b[38;5;241m=\u001b[39m {}\n",
      "\u001b[1;31mNameError\u001b[0m: name 'df1' is not defined"
     ]
    }
   ],
   "source": [
    "dict_1 = df1.set_index(\"mac_ad\").to_dict()[\"rssi\"]\n",
    "dict_2 = df2.set_index(\"mac_ad\").to_dict()[\"rssi\"]\n",
    "dict_3 = {}\n",
    "for key, value in dict_2.items():\n",
    "    if key in dict_1:\n",
    "        if isinstance(dict_1[key], list):\n",
    "            dict_1[key].append(value)\n",
    "        else:\n",
    "            temp_list = [dict_1[key]]\n",
    "            temp_list.append(value)\n",
    "            dict_1[key] = temp_list\n",
    "    else:\n",
    "        dict_1[key] = value\n",
    "\n",
    "dict_1"
   ]
  },
  {
   "cell_type": "code",
   "execution_count": 35,
   "id": "caabb940",
   "metadata": {},
   "outputs": [
    {
     "ename": "NameError",
     "evalue": "name 'dict_1' is not defined",
     "output_type": "error",
     "traceback": [
      "\u001b[1;31m---------------------------------------------------------------------------\u001b[0m",
      "\u001b[1;31mNameError\u001b[0m                                 Traceback (most recent call last)",
      "Input \u001b[1;32mIn [35]\u001b[0m, in \u001b[0;36m<cell line: 8>\u001b[1;34m()\u001b[0m\n\u001b[0;32m      5\u001b[0m     \u001b[38;5;28;01melse\u001b[39;00m:\n\u001b[0;32m      6\u001b[0m         rejects[k] \u001b[38;5;241m=\u001b[39m v\n\u001b[1;32m----> 8\u001b[0m \u001b[38;5;28mdict\u001b[39m \u001b[38;5;241m=\u001b[39m {k: f(k, v) \u001b[38;5;28;01mfor\u001b[39;00m k, v \u001b[38;5;129;01min\u001b[39;00m \u001b[43mdict_1\u001b[49m\u001b[38;5;241m.\u001b[39mitems()}\n\u001b[0;32m      9\u001b[0m [\u001b[38;5;28mdict\u001b[39m\u001b[38;5;241m.\u001b[39mpop(key) \u001b[38;5;28;01mfor\u001b[39;00m key \u001b[38;5;129;01min\u001b[39;00m rejects\u001b[38;5;241m.\u001b[39mkeys()]\n\u001b[0;32m     10\u001b[0m error \u001b[38;5;241m=\u001b[39m \u001b[38;5;28msum\u001b[39m(\u001b[38;5;28mdict\u001b[39m\u001b[38;5;241m.\u001b[39mvalues())\n",
      "\u001b[1;31mNameError\u001b[0m: name 'dict_1' is not defined"
     ]
    }
   ],
   "source": [
    "rejects = {}\n",
    "def f(k, v):\n",
    "    if isinstance(v, list):\n",
    "        return abs(int(v[0])-int(v[1]))\n",
    "    else:\n",
    "        rejects[k] = v\n",
    "\n",
    "dict = {k: f(k, v) for k, v in dict_1.items()}\n",
    "[dict.pop(key) for key in rejects.keys()]\n",
    "error = sum(dict.values())\n",
    "error"
   ]
  },
  {
   "cell_type": "code",
   "execution_count": null,
   "id": "ee153026",
   "metadata": {},
   "outputs": [],
   "source": []
  },
  {
   "cell_type": "code",
   "execution_count": null,
   "id": "b7bbf84b",
   "metadata": {},
   "outputs": [],
   "source": []
  },
  {
   "cell_type": "code",
   "execution_count": 36,
   "id": "f3605256",
   "metadata": {},
   "outputs": [
    {
     "name": "stdout",
     "output_type": "stream",
     "text": [
      "[[94, 98, 114, 104, 105, 88, 68, 83, 81, 75], [78, 45, 68, 90, 67, 55, 39, 53, 71, 43], [72, 84, 69, 75, 61, 53, 81, 109, 111, 91], [19, 47, 48, 41, 46, 47, 58, 94, 76, 70], [45, 60, 68, 44, 56, 63, 77, 88, 72, 59]]\n"
     ]
    }
   ],
   "source": [
    "import configparser\n",
    "import GridPoint as gd\n",
    "import pandas as pd\n",
    "import DataModel\n",
    "\n",
    "\n",
    "#read config file\n",
    "config = configparser.ConfigParser()\n",
    "config.read(\"config.ini\")\n",
    "config_paths = config[\"paths\"]\n",
    "config_grid = config[\"grid\"]\n",
    "\n",
    "#config params\n",
    "numGridPoints = int(config_grid[\"numGridPoints\"])\n",
    "\n",
    "grid_points = DataModel.DataModel(\"test.xml\", 10)#Contains XML data from training map\n",
    "grid_points_test = DataModel.DataModel(\"testy.xml\", 5)#Contains XML data from random locations (Currently 5)\n",
    "\n",
    "#Sum of Errors list\n",
    "all_errors = []\n",
    "\n",
    "#Match every position  with every grid point.\n",
    "#MAC Addresses that do not match are currently not used as extra data\n",
    "for test_point in grid_points_test:\n",
    "    errors = []\n",
    "    for grid_point in grid_points:\n",
    "        df_test = test_point.df\n",
    "        df_data = grid_point.df\n",
    "        \n",
    "        #Dictionaries to extract unique key-value pairs from mac address and rssi from both lists\n",
    "        #dict_1 will store all key-value pairs that do and do not match\n",
    "        dict_1 = df_data.set_index(\"mac_ad\").to_dict()[\"rssi\"]\n",
    "        dict_2 = df_test.set_index(\"mac_ad\").to_dict()[\"rssi\"]\n",
    "        for key, value in dict_2.items():\n",
    "            if key in dict_1:\n",
    "                if isinstance(dict_1[key], list):\n",
    "                    dict_1[key].append(value)\n",
    "                else:\n",
    "                    temp_list = [dict_1[key]]\n",
    "                    temp_list.append(value)\n",
    "                    dict_1[key] = temp_list\n",
    "            else:\n",
    "                dict_1[key] = value\n",
    "\n",
    "                \n",
    "        #This list is all key value pairs that did not match in both lists. Will be used for later\n",
    "        rejects = {}\n",
    "        #conglomerates\n",
    "        def f(k, v):\n",
    "            if isinstance(v, list):\n",
    "                return abs(int(v[0]) - int(v[1]))\n",
    "            else:\n",
    "                rejects[k] = v\n",
    "\n",
    "                \n",
    "        dict = {k: f(k, v) for k, v in dict_1.items()}\n",
    "        [dict.pop(key) for key in rejects.keys()]\n",
    "\n",
    "        #\n",
    "        error = sum(dict.values())\n",
    "        errors.append(error)\n",
    "\n",
    "    all_errors.append(errors)\n",
    "print(all_errors)"
   ]
  },
  {
   "cell_type": "code",
   "execution_count": null,
   "id": "db3e8579",
   "metadata": {},
   "outputs": [],
   "source": []
  },
  {
   "cell_type": "code",
   "execution_count": 52,
   "id": "f1a8086a",
   "metadata": {},
   "outputs": [
    {
     "name": "stdout",
     "output_type": "stream",
     "text": [
      "[6, 9, 8, 7, 5, 0, 1, 3, 4, 2]\n",
      "[[4, 26]]\n",
      "Predicted Coordinates: 4.0,26.0\n"
     ]
    }
   ],
   "source": [
    "tree = ET.parse(\"test.xml\")\n",
    "root = tree.getroot()\n",
    "\n",
    "\n",
    "one = all_errors[0]\n",
    "sorted_one = sorted(range(len(one)), key=lambda k: one[k])\n",
    "\n",
    "print(sorted_one)\n",
    "coord_list = []\n",
    "for i in range(1):\n",
    "    grid = root[sorted_one[i]]\n",
    "    x = int(grid.find(\"X\").text)\n",
    "    y = int(grid.find(\"Y\").text)\n",
    "    coord_list.append([x,y])\n",
    "    \n",
    "print(coord_list)\n",
    "\n",
    "x = 0\n",
    "y = 0\n",
    "for coord in coord_list:\n",
    "    x += coord[0]\n",
    "    y += coord[1]\n",
    "x /= len(coord_list)\n",
    "y /= len(coord_list)\n",
    "print(f\"Predicted Coordinates: {x},{y}\")"
   ]
  },
  {
   "cell_type": "code",
   "execution_count": 38,
   "id": "7574d5f4",
   "metadata": {},
   "outputs": [
    {
     "name": "stdout",
     "output_type": "stream",
     "text": [
      "18\n"
     ]
    }
   ],
   "source": [
    "import xml.etree.ElementTree as ET\n",
    "import configparser\n",
    "\n",
    "file = \"xml\\data.xml\"\n",
    "grid_id=0\n",
    "#read config file\n",
    "config = configparser.ConfigParser()\n",
    "config.read(\"config.ini\")\n",
    "config_grid_points = config[\"grid_points\"]\n",
    "\n",
    "# parse tree from xml file\n",
    "tree = ET.parse(file)\n",
    "root = tree.getroot()\n",
    "\n",
    "\n",
    "grid = root[grid_id]\n",
    "x = root[grid_id].find(\"X\")\n",
    "x.text = eval(config_grid_points[str(grid_id)])[\"y\"]\n",
    "print(eval(config_grid_points[str(grid_id)])[\"y\"])\n",
    "y = root[grid_id].find(\"Y\")\n",
    "y.text = eval(config_grid_points[str(grid_id)])[\"y\"]"
   ]
  },
  {
   "cell_type": "code",
   "execution_count": null,
   "id": "3aceff26",
   "metadata": {},
   "outputs": [],
   "source": []
  }
 ],
 "metadata": {
  "kernelspec": {
   "display_name": "Python 3 (ipykernel)",
   "language": "python",
   "name": "python3"
  },
  "language_info": {
   "codemirror_mode": {
    "name": "ipython",
    "version": 3
   },
   "file_extension": ".py",
   "mimetype": "text/x-python",
   "name": "python",
   "nbconvert_exporter": "python",
   "pygments_lexer": "ipython3",
   "version": "3.9.12"
  }
 },
 "nbformat": 4,
 "nbformat_minor": 5
}
